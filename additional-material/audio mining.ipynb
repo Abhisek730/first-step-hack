{
 "cells": [
  {
   "cell_type": "markdown",
   "metadata": {},
   "source": [
    "**Akuisisi dan Representasi Data Audio**"
   ]
  },
  {
   "cell_type": "code",
   "execution_count": 107,
   "metadata": {},
   "outputs": [],
   "source": [
    "#Mengimport module yang diperlukan\n",
    "import numpy as np\n",
    "import matplotlib.pyplot as plt\n",
    "from scipy.io import wavfile\n",
    "import sys"
   ]
  },
  {
   "cell_type": "markdown",
   "metadata": {},
   "source": [
    "1. Modifikasi kode bagian (a) agar membuat gelombang suara dengan frekuensi 1000, dan simpan file audio kedalam file2.wav. Apakah suara yang dihasilkan file2.wav berbeda dengan file1.wav (dihasilkan oleh kode (b))? jelaskan alasannya."
   ]
  },
  {
   "cell_type": "code",
   "execution_count": 33,
   "metadata": {},
   "outputs": [
    {
     "data": {
      "image/png": "[encoded data removed]",
      "text/plain": [
       "<Figure size 432x288 with 1 Axes>"
      ]
     },
     "metadata": {
      "needs_background": "light"
     },
     "output_type": "display_data"
    }
   ],
   "source": [
    "# menentukan sampling rate\n",
    "sr = 44100\n",
    "# menentukan frequency dalam 1 detik\n",
    "freq = 1000\n",
    "#menentukan time (sumbu x)\n",
    "length = 1\n",
    "\n",
    "#membuat fungsi linear dari 0 s/d time dengan titik berjumlah sr\n",
    "#1/sr --> stepsize, karena kita mau ada sr titik per detik\n",
    "t = np.arange(0, length, 1.0/sr) \n",
    "\n",
    "#membuat wave dengan sin function wave = A*sin(2*pi*freq*t)\n",
    "signal = np.sin(np.pi*2*freq*t)\n",
    "\n",
    "#range 1 cycle dalam 1 detik, range 1 sd -1, starting point 0\n",
    "plt.plot(t, signal)\n",
    "plt.show()\n",
    "\n",
    "#Meniympan file audio\n",
    "wavfile.write(\"file2.wav\", sr, signal)"
   ]
  },
  {
   "cell_type": "markdown",
   "metadata": {},
   "source": [
    "Interpretasi: <p>\n",
    "\n"
   ]
  },
  {
   "cell_type": "markdown",
   "metadata": {},
   "source": [
    "2. Modifikasi kode bagian (a) dengan mengganti nilai amplitudo menjadi 16, dengan frekuensi 200 Hz, lalu simpan file audio kedalam file3.wav. Apakah terdapat perbedaan bunyi dengan hasil suara dari kode bagian (b) atau file1.wav? jelaskan alasannya."
   ]
  },
  {
   "cell_type": "code",
   "execution_count": 49,
   "metadata": {},
   "outputs": [
    {
     "data": {
      "image/png": "[encoded data removed]",
      "text/plain": [
       "<Figure size 432x288 with 1 Axes>"
      ]
     },
     "metadata": {
      "needs_background": "light"
     },
     "output_type": "display_data"
    }
   ],
   "source": [
    "# menentukan sampling rate\n",
    "sr = 44100\n",
    "# menentukan frequency dalam 1 detik\n",
    "freq = 200\n",
    "#menentukan time (sumbu x)\n",
    "length = 1\n",
    "\n",
    "#membuat fungsi linear dari 0 s/d time dengan titik berjumlah sr\n",
    "#1/sr --> stepsize, karena kita mau ada sr titik per detik\n",
    "t = np.arange(0, length, 1.0/sr) \n",
    "\n",
    "#membuat wave dengan sin function wave = A*sin(2*pi*freq*t)\n",
    "signal = 16*(np.sin(np.pi*2*freq*t))\n",
    "\n",
    "#range 1 cycle dalam 1 detik, range 1 sd -1, starting point 0\n",
    "plt.plot(t, signal)\n",
    "plt.show()\n",
    "\n",
    "#Meniympan file audio\n",
    "wavfile.write(\"file3.wav\", sr, signal)"
   ]
  }
 ],
 "metadata": {
  "kernelspec": {
   "display_name": "Python 3.9.12 ('base')",
   "language": "python",
   "name": "python3"
  },
  "language_info": {
   "codemirror_mode": {
    "name": "ipython",
    "version": 3
   },
   "file_extension": ".py",
   "mimetype": "text/x-python",
   "name": "python",
   "nbconvert_exporter": "python",
   "pygments_lexer": "ipython3",
   "version": "3.9.12"
  },
  "orig_nbformat": 4,
  "vscode": {
   "interpreter": {
    "hash": "ad2bdc8ecc057115af97d19610ffacc2b4e99fae6737bb82f5d7fb13d2f2c186"
   }
  }
 },
 "nbformat": 4,
 "nbformat_minor": 2
}
