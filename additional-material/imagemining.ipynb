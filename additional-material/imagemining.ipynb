{
 "cells": [
  {
   "cell_type": "markdown",
   "metadata": {},
   "source": [
    "<p></p>"
   ]
  },
  {
   "cell_type": "markdown",
   "metadata": {},
   "source": [
    "**Akuisisi dan Representasi Data Image**"
   ]
  },
  {
   "cell_type": "code",
   "execution_count": 2,
   "metadata": {},
   "outputs": [],
   "source": [
    "#Import module yang diperlukan\n",
    "import cv2\n",
    "import numpy as np"
   ]
  },
  {
   "cell_type": "markdown",
   "metadata": {},
   "source": [
    "1. Modifikasi kode bagian (a) agar dapat menampilkan citra ‘Lenna.png’ dalam grayscale."
   ]
  },
  {
   "cell_type": "code",
   "execution_count": 20,
   "metadata": {},
   "outputs": [
    {
     "data": {
      "text/plain": [
       "-1"
      ]
     },
     "execution_count": 20,
     "metadata": {},
     "output_type": "execute_result"
    }
   ],
   "source": [
    "#mengupload image asli\n",
    "img = cv2.imread(\"./lenna.png\")\n",
    "#cv2.imshow(\"citra lenna\", img)\n",
    "#cv2.waitKey(0)\n",
    "\n",
    "#Menampilkan image grayscale\n",
    "img_greyscale = cv2.imread(\"./lenna.png\",0)\n",
    "cv2.imshow(\"citra lenna Grayscale\", img_greyscale)\n",
    "cv2.waitKey(0)"
   ]
  },
  {
   "cell_type": "markdown",
   "metadata": {},
   "source": [
    "Interpretasi: <p>\n",
    "Dengan menambahkan angka 0 untuk mengubah citra menjadi grayscale di dalam fungsi cv2.imread()<p>\n",
    "0 = menampilkan gambar grayscale <p>\n",
    "1 = menampilkan gambar berwarna/asli"
   ]
  },
  {
   "cell_type": "markdown",
   "metadata": {},
   "source": [
    "2. Modifikasi kode bagian (a) agar bisa melakukan crop pada citra ‘Lenna.png’ (terserah dibagian mana saja)."
   ]
  },
  {
   "cell_type": "code",
   "execution_count": 4,
   "metadata": {},
   "outputs": [
    {
     "data": {
      "text/plain": [
       "-1"
      ]
     },
     "execution_count": 4,
     "metadata": {},
     "output_type": "execute_result"
    }
   ],
   "source": [
    "#Mengcrop citra dengan objek wajah dalam lenna.png\n",
    "y=105\n",
    "x=55\n",
    "h=150\n",
    "w=200\n",
    "crop = img[y:y+h, x:x+w]\n",
    "cv2.imshow(\"citra lenna crop\", crop)\n",
    "cv2.waitKey(0)"
   ]
  },
  {
   "cell_type": "markdown",
   "metadata": {},
   "source": [
    "Interpretasi: <p>\n"
   ]
  },
  {
   "cell_type": "markdown",
   "metadata": {},
   "source": [
    "3. Modifikasi kode bagian (b) agar dapat menampilkan ukuran citra grayscale dari ‘Lenna.png’ dan nilai matriks dari citra grayscale ‘Lenna.png’ pada baris ke-0 dan kolom ke-0. Apakah hasilnya berbeda dengan bagian (b), jelaskan alasannya."
   ]
  },
  {
   "cell_type": "code",
   "execution_count": 26,
   "metadata": {},
   "outputs": [
    {
     "name": "stdout",
     "output_type": "stream",
     "text": [
      "\n",
      "===Original===\n",
      "ukuran citra:  (330, 330)\n",
      "Matriks dari Citra Warna pada baris 0 dan kolom 0:  [124 137 226]\n",
      "\n",
      "===Grayscale===\n",
      "ukuran citra:  (330, 330)\n",
      "Matriks dari Citra greyscale pada baris 0 dan kolom 0:  169\n"
     ]
    }
   ],
   "source": [
    "#Citra Original\n",
    "img = cv2.imread(\"./lenna.png\")\n",
    "print('\\n===Original===')\n",
    "print(\"ukuran citra: \", img_greyscale.shape)\n",
    "#print(\"ukuran citra (flattened)\", img.ravel().shape)\n",
    "print(\"Matriks dari Citra Warna pada baris 0 dan kolom 0: \", img[0,0])\n",
    "\n",
    "#Citra Grayscale\n",
    "img_greyscale = cv2.imread(\"./lenna.png\",0)\n",
    "print('\\n===Grayscale===')\n",
    "print(\"ukuran citra: \", img_greyscale.shape)\n",
    "#print(\"ukuran citra (flattened)\", img.ravel().shape)\n",
    "print(\"Matriks dari Citra greyscale pada baris 0 dan kolom 0: \", img_greyscale[0,0])\n"
   ]
  },
  {
   "cell_type": "markdown",
   "metadata": {},
   "source": [
    "Interpretasi: <p>\n"
   ]
  },
  {
   "cell_type": "markdown",
   "metadata": {},
   "source": [
    "4. Modifikasi kode bagian (c) untuk menampilkan channel Green dan Red."
   ]
  },
  {
   "cell_type": "code",
   "execution_count": 27,
   "metadata": {},
   "outputs": [
    {
     "name": "stdout",
     "output_type": "stream",
     "text": [
      "ukuran channel green (330, 330)\n",
      "ukuran channel red (330, 330)\n"
     ]
    },
    {
     "data": {
      "text/plain": [
       "-1"
      ]
     },
     "execution_count": 27,
     "metadata": {},
     "output_type": "execute_result"
    }
   ],
   "source": [
    "#Menampilkan channel tertentu pada citra\n",
    "#Upload citra\n",
    "img = cv2.imread(\"./lenna.png\")\n",
    "\n",
    "#memisahkan suatu citra berwarna menjadi komponen Red, Green, dan Blue.\n",
    "(blue, green, red) = cv2.split(img)\n",
    "\n",
    "#Memapilkan ukuran channel\n",
    "print(\"ukuran channel green\", green.shape)\n",
    "print(\"ukuran channel red\", red.shape)\n",
    "\n",
    "#untuk menampilkan channel citra\n",
    "cv2.imshow(\"Komponen Hijau\", green)\n",
    "cv2.imshow(\"Komponen Merah\", red)\n",
    "cv2.waitKey(0)\n"
   ]
  },
  {
   "cell_type": "markdown",
   "metadata": {},
   "source": [
    "Interpretasi: <p>\n"
   ]
  },
  {
   "cell_type": "markdown",
   "metadata": {},
   "source": [
    "5. Simpanlah file ‘Lenna.png’ menjadi format JPEG dengan menggunakan method imwrite pada OpenCV, apakah terdapat perbedaan nilai array pada file citra asli dan file dengan format JPEG? Jelaskan alasannya."
   ]
  },
  {
   "cell_type": "code",
   "execution_count": 28,
   "metadata": {},
   "outputs": [
    {
     "name": "stdout",
     "output_type": "stream",
     "text": [
      "===Lenna.png Array Value===\n",
      "Image Dimension PNG   :  (330, 330, 3)\n",
      "Image Height PNG      :  330\n",
      "Image Width PNG       :  330\n",
      "Number of Channels PNG:  3\n",
      "\n",
      "===Lenna.jpeg Array Value===\n",
      "Image Dimension JPEG   :  (330, 330, 3)\n",
      "Image Height JPEG      :  330\n",
      "Image Width JPEG       :  330\n",
      "Number of Channels JPEG:  3\n"
     ]
    }
   ],
   "source": [
    "#Menyimpan citra dengan format berbeda\n",
    "img_png = cv2.imread(\"./lenna.png\")\n",
    "cv2.imwrite('D:/Semester 5/Data Mining II/Praktikum/lenna.jpeg',img_png)\n",
    "\n",
    "#Menampilkan nilai array citra asli\n",
    "dimensions = img_png.shape\n",
    "height = img_png.shape[0]\n",
    "width = img_png.shape[1]\n",
    "channels = img_png.shape[2]\n",
    "print('===Lenna.png Array Value===')\n",
    "print('Image Dimension PNG   : ',dimensions)\n",
    "print('Image Height PNG      : ',height)\n",
    "print('Image Width PNG       : ',width)\n",
    "print('Number of Channels PNG: ',channels)\n",
    "\n",
    "#Menampilkan nilai array citra grayscale\n",
    "img_jpeg = cv2.imread(\"./Praktikum/lenna.jpeg\")\n",
    "dimensions = img_jpeg.shape\n",
    "height = img_jpeg.shape[0]\n",
    "width = img_jpeg.shape[1]\n",
    "channels = img_jpeg.shape[2]\n",
    "print('\\n===Lenna.jpeg Array Value===')\n",
    "print('Image Dimension JPEG   : ',dimensions)\n",
    "print('Image Height JPEG      : ',height)\n",
    "print('Image Width JPEG       : ',width)\n",
    "print('Number of Channels JPEG: ',channels)"
   ]
  },
  {
   "cell_type": "markdown",
   "metadata": {},
   "source": [
    "Interpretasi: <p>\n"
   ]
  },
  {
   "cell_type": "markdown",
   "metadata": {},
   "source": [
    "<p>"
   ]
  }
 ],
 "metadata": {
  "kernelspec": {
   "display_name": "Python 3.9.12 ('base')",
   "language": "python",
   "name": "python3"
  },
  "language_info": {
   "codemirror_mode": {
    "name": "ipython",
    "version": 3
   },
   "file_extension": ".py",
   "mimetype": "text/x-python",
   "name": "python",
   "nbconvert_exporter": "python",
   "pygments_lexer": "ipython3",
   "version": "3.9.12"
  },
  "orig_nbformat": 4,
  "vscode": {
   "interpreter": {
    "hash": "ad2bdc8ecc057115af97d19610ffacc2b4e99fae6737bb82f5d7fb13d2f2c186"
   }
  }
 },
 "nbformat": 4,
 "nbformat_minor": 2
}
