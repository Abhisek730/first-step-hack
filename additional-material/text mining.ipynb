{
 "cells": [
  {
   "cell_type": "markdown",
   "metadata": {},
   "source": [
    "**Akuisisi dan Representasi Data Text**"
   ]
  },
  {
   "cell_type": "code",
   "execution_count": 144,
   "metadata": {},
   "outputs": [],
   "source": [
    "#Mengimport module yang diperlukan\n",
    "import sys\n",
    "from numpy import array\n",
    "from numpy import argmax\n",
    "from sklearn.preprocessing import LabelEncoder\n",
    "from sklearn.preprocessing import OneHotEncoder\n",
    "from sklearn.feature_extraction.text import CountVectorizer\n",
    "from sklearn.feature_extraction.text import TfidfVectorizer"
   ]
  },
  {
   "cell_type": "markdown",
   "metadata": {},
   "source": [
    "1. Modifikasi kode bagian (a) agar bisa menampilkan ASCII code untuk kata ‘datA mining’"
   ]
  },
  {
   "cell_type": "code",
   "execution_count": 77,
   "metadata": {},
   "outputs": [
    {
     "name": "stdout",
     "output_type": "stream",
     "text": [
      "ASCII to char and vice versa\n",
      "[100, 97, 116, 65, 32, 109, 105, 110, 105, 110, 103]\n"
     ]
    },
    {
     "data": {
      "text/plain": [
       "'datA mining'"
      ]
     },
     "execution_count": 77,
     "metadata": {},
     "output_type": "execute_result"
    }
   ],
   "source": [
    "print(\"ASCII to char and vice versa\")\n",
    "char = 'datA mining'\n",
    "print([ord(c) for c in char]) #fungsi mengubah string ke ASCII code\n",
    "\n",
    "ascii = [100, 97, 116, 65, 32, 109, 105, 110, 105, 110, 103]\n",
    "tochar = [chr(ascii) for ascii in ascii] #fungsi mengubah ASCII code ke String\n",
    "''.join(tochar)"
   ]
  },
  {
   "cell_type": "code",
   "execution_count": 262,
   "metadata": {},
   "outputs": [
    {
     "name": "stdout",
     "output_type": "stream",
     "text": [
      "\n",
      "One-Hot Encoding\n",
      "Teks:  I ate an apple\n",
      "[0 3 1 2]\n",
      "[[1. 0. 0. 0.]\n",
      " [0. 0. 0. 1.]\n",
      " [0. 1. 0. 0.]\n",
      " [0. 0. 1. 0.]]\n"
     ]
    },
    {
     "data": {
      "text/plain": [
       "array(['I'], dtype='<U5')"
      ]
     },
     "execution_count": 262,
     "metadata": {},
     "output_type": "execute_result"
    }
   ],
   "source": [
    "# One-Hot Encoding\n",
    "\n",
    "from numpy import ravel\n",
    "\n",
    "\n",
    "print(\"\\nOne-Hot Encoding\")\n",
    "docs = \"I ate an apple\"\n",
    "print('Teks: ', docs)\n",
    "\n",
    "# memisah kalimat menjadi token\n",
    "split_docs = docs.split(\" \")\n",
    "data = [doc.split(\" \") for doc in split_docs]\n",
    "values = array(data).ravel()\n",
    "\n",
    "# integer encode\n",
    "label_encoder = LabelEncoder()\n",
    "integer_encoded = label_encoder.fit_transform(values)\n",
    "print(integer_encoded)\n",
    "\n",
    "# binary encode\n",
    "onehot_encoder = OneHotEncoder(sparse=False)\n",
    "integer_encoded = integer_encoded.reshape(len(integer_encoded), 1)\n",
    "onehot_encoded = onehot_encoder.fit_transform(integer_encoded)\n",
    "print(onehot_encoded)\n",
    "\n",
    "label_encoder.inverse_transform(integer_encoded[0])"
   ]
  },
  {
   "cell_type": "markdown",
   "metadata": {},
   "source": [
    "3. Download file tugas_text_representation.csv dari hebat e learning, kemudian lakukan CountVectorizer dan TF-IDF pada korpus tersebut. Jelaskan hasil yang didapatkan."
   ]
  },
  {
   "cell_type": "code",
   "execution_count": 276,
   "metadata": {},
   "outputs": [
    {
     "name": "stdout",
     "output_type": "stream",
     "text": [
      "\n",
      "countVectorizer\n",
      "{'berita': 6, 'nlp': 21, 'adalah': 0, 'bagian': 3, 'dari': 8, 'text': 27, 'mining': 19, 'dan': 7, 'banyak': 5, 'aplikasi': 2, 'yang': 32, 'dibuat': 10, 'dengan': 9, 'menggunakan': 17, 'memiliki': 16, 'hubungan': 13, 'erat': 12, 'proses': 24, 'neurologi': 20, 'yaitu': 31, 'bahasa': 4, 'juga': 14, 'pola': 23, 'perilaku': 22, 'manusia': 15, 'analisis': 1, 'sintaksis': 25, 'teknik': 26, 'utama': 30, 'digunakan': 11, 'untuk': 29, 'menyelesaikan': 18, 'tugas': 28}\n",
      "(4, 33)\n",
      "\n",
      "[[0 0 0 0 0 0 1 0 0 0 0 0 0 0 0 0 0 0 0 0 0 0 0 0 0 0 0 0 0 0 0 0 0]\n",
      " [1 0 1 1 0 1 0 1 1 1 1 0 0 0 0 0 0 1 0 1 0 2 0 0 0 0 0 1 0 0 0 0 1]\n",
      " [0 0 0 0 1 0 0 1 0 1 0 0 1 1 1 1 1 0 0 0 1 1 1 1 1 0 0 0 0 0 0 1 0]\n",
      " [1 1 0 0 0 0 0 0 0 0 0 1 0 0 0 0 0 0 1 0 0 1 0 0 0 1 1 0 1 1 1 0 1]]\n",
      "\n",
      "TF-IDF\n",
      "{'adalah': 1.5108256237659907, 'analisis': 1.916290731874155, 'aplikasi': 1.916290731874155, 'bagian': 1.916290731874155, 'bahasa': 1.916290731874155, 'banyak': 1.916290731874155, 'berita': 1.916290731874155, 'dan': 1.5108256237659907, 'dari': 1.916290731874155, 'dengan': 1.5108256237659907, 'dibuat': 1.916290731874155, 'digunakan': 1.916290731874155, 'erat': 1.916290731874155, 'hubungan': 1.916290731874155, 'juga': 1.916290731874155, 'manusia': 1.916290731874155, 'memiliki': 1.916290731874155, 'menggunakan': 1.916290731874155, 'menyelesaikan': 1.916290731874155, 'mining': 1.916290731874155, 'neurologi': 1.916290731874155, 'nlp': 1.2231435513142097, 'perilaku': 1.916290731874155, 'pola': 1.916290731874155, 'proses': 1.916290731874155, 'sintaksis': 1.916290731874155, 'teknik': 1.916290731874155, 'text': 1.916290731874155, 'tugas': 1.916290731874155, 'untuk': 1.916290731874155, 'utama': 1.916290731874155, 'yaitu': 1.916290731874155, 'yang': 1.5108256237659907}\n"
     ]
    }
   ],
   "source": [
    "## CountVectorizer\n",
    "from sklearn.feature_extraction.text import CountVectorizer\n",
    "\n",
    "print(\"\\ncountVectorizer\")\n",
    "text = [\"berita\",\n",
    "\"Nlp adalah bagian dari text mining dan banyak aplikasi yang dibuat dengan menggunakan nlp\",\n",
    "\"nlp memiliki hubungan erat dengan proses neurologi yaitu bahasa dan juga pola perilaku manusia\",\n",
    "\"Analisis sintaksis adalah teknik utama yang digunakan untuk menyelesaikan tugas nlp\"]\n",
    "\n",
    "vectorizer = CountVectorizer()\n",
    "\n",
    "# tokenisasi dan membuat vocab\n",
    "vectorizer.fit(text)\n",
    "print(vectorizer.vocabulary_)\n",
    "\n",
    "\n",
    "# encode dokumen\n",
    "vector = vectorizer.transform(text)\n",
    "\n",
    "# hasil encode vektor\n",
    "print(vector.shape) \n",
    "print()\n",
    "print(vector.toarray())\n",
    "\n",
    "# #3.TF-IDF\n",
    "\n",
    "from sklearn.feature_extraction.text import TfidfVectorizer\n",
    "\n",
    "print(\"\\nTF-IDF\")\n",
    "text1 = [\"berita\",\n",
    "\"Nlp adalah bagian dari text mining dan banyak aplikasi yang dibuat dengan menggunakan nlp\",\n",
    "\"nlp memiliki hubungan erat dengan proses neurologi yaitu bahasa dan juga pola perilaku manusia\",\n",
    "\"Analisis sintaksis adalah teknik utama yang digunakan untuk menyelesaikan tugas nlp\"]\n",
    "\n",
    "tf = TfidfVectorizer()\n",
    "txt_fitted = tf.fit(text1)\n",
    "txt_transformed = txt_fitted.transform(text1)\n",
    "\n",
    "idf = tf.idf_\n",
    "print(dict(zip(txt_fitted.get_feature_names(), idf)))\n"
   ]
  },
  {
   "cell_type": "markdown",
   "metadata": {},
   "source": [
    "Interpretasi: <p>\n"
   ]
  },
  {
   "cell_type": "markdown",
   "metadata": {},
   "source": [
    "4. Modifikasi kode bagian (d) agar bisa menampilkan grafik dari tiap kata. contohnya seperti\n",
    "gambar di bawah."
   ]
  },
  {
   "cell_type": "code",
   "execution_count": 272,
   "metadata": {},
   "outputs": [
    {
     "data": {
      "image/png": "[encoded data removed]",
      "text/plain": [
       "<Figure size 432x288 with 1 Axes>"
      ]
     },
     "metadata": {
      "needs_background": "light"
     },
     "output_type": "display_data"
    }
   ],
   "source": [
    "import matplotlib.pyplot as plt\n",
    "D = dict(zip(txt_fitted.get_feature_names(), idf))\n",
    "plt.bar(*zip(*D.items()))\n",
    "plt.show()"
   ]
  },
  {
   "cell_type": "markdown",
   "metadata": {},
   "source": [
    "Interpretasi: <p>\n"
   ]
  }
 ],
 "metadata": {
  "kernelspec": {
   "display_name": "Python 3.9.12 ('base')",
   "language": "python",
   "name": "python3"
  },
  "language_info": {
   "codemirror_mode": {
    "name": "ipython",
    "version": 3
   },
   "file_extension": ".py",
   "mimetype": "text/x-python",
   "name": "python",
   "nbconvert_exporter": "python",
   "pygments_lexer": "ipython3",
   "version": "3.9.12"
  },
  "orig_nbformat": 4,
  "vscode": {
   "interpreter": {
    "hash": "ad2bdc8ecc057115af97d19610ffacc2b4e99fae6737bb82f5d7fb13d2f2c186"
   }
  }
 },
 "nbformat": 4,
 "nbformat_minor": 2
}
